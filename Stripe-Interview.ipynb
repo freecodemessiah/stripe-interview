{
 "cells": [
  {
   "cell_type": "markdown",
   "metadata": {},
   "source": [
    "## Part 1"
   ]
  },
  {
   "cell_type": "markdown",
   "metadata": {},
   "source": [
    "Step 1: min_by_key\n",
    "Throughout this interview, we'll pretend we're building a new analytical database. Don't worry about actually building a database though – these will all be toy problems.\n",
    "Here's how the database works: all records are represented as maps, with string keys and integer values. The records are contained in an array, in no particular order.\n",
    "To begin with, the database will support just one function: min_by_key. This function scans the array of records and returns the record that has the minimum value for a specified key. Records that do not contain the specified key are considered to have value 0 for the key. Note that keys may map to negative values!\n",
    "Here's an example use case: each of your records contains data about a school student. You can use min_by_key to answer questions such as \"who is the youngest student?\" and \"who is the student with the lowest grade-point average?\"\n",
    "Implementation notes:\n",
    "You should handle an empty array of records in an idiomatic way in your language of choice.\n",
    "If several records share the same minimum value for the chosen key, you may return any of them.\n"
   ]
  },
  {
   "cell_type": "code",
   "execution_count": 2,
   "metadata": {},
   "outputs": [],
   "source": [
    "def test_min_by_key():\n",
    "    example1 = [{\"a\": 1, \"b\": 2}, {\"a\": 2}]\n",
    "    example2 = [example1[1], example1[0]]\n",
    "    example3 = [{}]\n",
    "    example4 = [{\"a\": -1}, {\"b\": -1}]\n",
    "    assert min_by_key(\"a\", example1) == example1[0]\n",
    "    assert min_by_key(\"a\", example2) == example2[1]\n",
    "    assert min_by_key(\"b\", example1) == example1[1]\n",
    "    assert min_by_key(\"a\", example3) == example3[0]\n",
    "    assert min_by_key(\"b\", example4) == example4[1]\n",
    "    "
   ]
  },
  {
   "cell_type": "code",
   "execution_count": 3,
   "metadata": {},
   "outputs": [],
   "source": [
    "def main(argv):\n",
    "    test_min_by_key()\n",
    "    test_first_by_key()\n",
    "    print(\"Sucess!\")"
   ]
  },
  {
   "cell_type": "code",
   "execution_count": 4,
   "metadata": {},
   "outputs": [
    {
     "ename": "NameError",
     "evalue": "name 'min_by_key' is not defined",
     "output_type": "error",
     "traceback": [
      "\u001b[0;31m------------------------------------------------------------------\u001b[0m",
      "\u001b[0;31mNameError\u001b[0m                        Traceback (most recent call last)",
      "\u001b[0;32m<ipython-input-4-f9402ddca0b4>\u001b[0m in \u001b[0;36m<module>\u001b[0;34m()\u001b[0m\n\u001b[1;32m      1\u001b[0m \u001b[0;32mif\u001b[0m \u001b[0m__name__\u001b[0m \u001b[0;34m==\u001b[0m \u001b[0;34m\"__main__\"\u001b[0m\u001b[0;34m:\u001b[0m\u001b[0;34m\u001b[0m\u001b[0m\n\u001b[1;32m      2\u001b[0m     \u001b[0;32mimport\u001b[0m \u001b[0msys\u001b[0m\u001b[0;34m\u001b[0m\u001b[0m\n\u001b[0;32m----> 3\u001b[0;31m     \u001b[0mmain\u001b[0m\u001b[0;34m(\u001b[0m\u001b[0;34m\"\"\u001b[0m\u001b[0;34m)\u001b[0m\u001b[0;34m\u001b[0m\u001b[0m\n\u001b[0m",
      "\u001b[0;32m<ipython-input-3-40b31d26bf75>\u001b[0m in \u001b[0;36mmain\u001b[0;34m(argv)\u001b[0m\n\u001b[1;32m      1\u001b[0m \u001b[0;32mdef\u001b[0m \u001b[0mmain\u001b[0m\u001b[0;34m(\u001b[0m\u001b[0margv\u001b[0m\u001b[0;34m)\u001b[0m\u001b[0;34m:\u001b[0m\u001b[0;34m\u001b[0m\u001b[0m\n\u001b[0;32m----> 2\u001b[0;31m     \u001b[0mtest_min_by_key\u001b[0m\u001b[0;34m(\u001b[0m\u001b[0;34m)\u001b[0m\u001b[0;34m\u001b[0m\u001b[0m\n\u001b[0m\u001b[1;32m      3\u001b[0m     \u001b[0mtest_first_by_key\u001b[0m\u001b[0;34m(\u001b[0m\u001b[0;34m)\u001b[0m\u001b[0;34m\u001b[0m\u001b[0m\n\u001b[1;32m      4\u001b[0m     \u001b[0mprint\u001b[0m\u001b[0;34m(\u001b[0m\u001b[0;34m\"Sucess!\"\u001b[0m\u001b[0;34m)\u001b[0m\u001b[0;34m\u001b[0m\u001b[0m\n",
      "\u001b[0;32m<ipython-input-2-558e17b620f9>\u001b[0m in \u001b[0;36mtest_min_by_key\u001b[0;34m()\u001b[0m\n\u001b[1;32m      4\u001b[0m     \u001b[0mexample3\u001b[0m \u001b[0;34m=\u001b[0m \u001b[0;34m[\u001b[0m\u001b[0;34m{\u001b[0m\u001b[0;34m}\u001b[0m\u001b[0;34m]\u001b[0m\u001b[0;34m\u001b[0m\u001b[0m\n\u001b[1;32m      5\u001b[0m     \u001b[0mexample4\u001b[0m \u001b[0;34m=\u001b[0m \u001b[0;34m[\u001b[0m\u001b[0;34m{\u001b[0m\u001b[0;34m\"a\"\u001b[0m\u001b[0;34m:\u001b[0m \u001b[0;34m-\u001b[0m\u001b[0;36m1\u001b[0m\u001b[0;34m}\u001b[0m\u001b[0;34m,\u001b[0m \u001b[0;34m{\u001b[0m\u001b[0;34m\"b\"\u001b[0m\u001b[0;34m:\u001b[0m \u001b[0;34m-\u001b[0m\u001b[0;36m1\u001b[0m\u001b[0;34m}\u001b[0m\u001b[0;34m]\u001b[0m\u001b[0;34m\u001b[0m\u001b[0m\n\u001b[0;32m----> 6\u001b[0;31m     \u001b[0;32massert\u001b[0m \u001b[0mmin_by_key\u001b[0m\u001b[0;34m(\u001b[0m\u001b[0;34m\"a\"\u001b[0m\u001b[0;34m,\u001b[0m \u001b[0mexample1\u001b[0m\u001b[0;34m)\u001b[0m \u001b[0;34m==\u001b[0m \u001b[0mexample1\u001b[0m\u001b[0;34m[\u001b[0m\u001b[0;36m0\u001b[0m\u001b[0;34m]\u001b[0m\u001b[0;34m\u001b[0m\u001b[0m\n\u001b[0m\u001b[1;32m      7\u001b[0m     \u001b[0;32massert\u001b[0m \u001b[0mmin_by_key\u001b[0m\u001b[0;34m(\u001b[0m\u001b[0;34m\"a\"\u001b[0m\u001b[0;34m,\u001b[0m \u001b[0mexample2\u001b[0m\u001b[0;34m)\u001b[0m \u001b[0;34m==\u001b[0m \u001b[0mexample2\u001b[0m\u001b[0;34m[\u001b[0m\u001b[0;36m1\u001b[0m\u001b[0;34m]\u001b[0m\u001b[0;34m\u001b[0m\u001b[0m\n\u001b[1;32m      8\u001b[0m     \u001b[0;32massert\u001b[0m \u001b[0mmin_by_key\u001b[0m\u001b[0;34m(\u001b[0m\u001b[0;34m\"b\"\u001b[0m\u001b[0;34m,\u001b[0m \u001b[0mexample1\u001b[0m\u001b[0;34m)\u001b[0m \u001b[0;34m==\u001b[0m \u001b[0mexample1\u001b[0m\u001b[0;34m[\u001b[0m\u001b[0;36m1\u001b[0m\u001b[0;34m]\u001b[0m\u001b[0;34m\u001b[0m\u001b[0m\n",
      "\u001b[0;31mNameError\u001b[0m: name 'min_by_key' is not defined"
     ]
    }
   ],
   "source": [
    "if __name__ == \"__main__\":\n",
    "    import sys\n",
    "    main(\"\")"
   ]
  },
  {
   "cell_type": "code",
   "execution_count": 5,
   "metadata": {},
   "outputs": [],
   "source": [
    "def min_by_key(key, data):\n",
    "    return first_by_key(key, \"asc\",  data)"
   ]
  },
  {
   "cell_type": "markdown",
   "metadata": {},
   "source": [
    "## Part 2"
   ]
  },
  {
   "cell_type": "markdown",
   "metadata": {},
   "source": [
    "Step 2: first_by_key\n",
    "Our next step in database development is to add a new function. We'll call this function first_by_key. It has much in common with min_by_key.  first_by_key takes three arguments:\n",
    "a string key\n",
    "a string sort direction (which must be either \"asc\" or \"desc\")\n",
    "an array of records, just as in min_by_key.\n",
    "If the sort direction is \"asc\", then we should return the minimum record, otherwise we should return the maximum record. As before, records without a value for the key should be treated as having value 0.\n",
    "Once you have a working solution, you should re-implement min_by_key in terms of first_by_key ."
   ]
  },
  {
   "cell_type": "code",
   "execution_count": 76,
   "metadata": {
    "collapsed": true
   },
   "outputs": [],
   "source": [
    "def test_first_by_key():\n",
    "    example1 = [{\"a\": 1}]\n",
    "    example2 = [{\"b\": 1}, {\"b\": -2}, {\"a\": 10}]\n",
    "    example3 = [{}, {\"a\": 10, \"b\": -10}, {}, {\"a\": 3, \"c\": 3}]\n",
    "    \n",
    "    assert first_by_key(\"a\", \"asc\", example1) == example1[0]\n",
    "    # example2[1] is also okay!\n",
    "    assert first_by_key(\"a\", \"asc\", example2) == example2[0]\n",
    "    assert first_by_key(\"a\", \"desc\", example2) == example2[2]\n",
    "    assert first_by_key(\"b\", \"asc\", example2) == example2[1]\n",
    "    assert first_by_key(\"b\", \"desc\", example2) == example2[0]\n",
    "    assert first_by_key(\"a\", \"desc\", example3) == example3[1]"
   ]
  },
  {
   "cell_type": "code",
   "execution_count": 77,
   "metadata": {},
   "outputs": [
    {
     "data": {
      "text/plain": [
       "True"
      ]
     },
     "execution_count": 77,
     "metadata": {},
     "output_type": "execute_result"
    }
   ],
   "source": [
    "first_by_key(\"b\", \"asc\", example2) == example2[1]"
   ]
  },
  {
   "cell_type": "code",
   "execution_count": 72,
   "metadata": {
    "collapsed": true
   },
   "outputs": [],
   "source": [
    "def first_by_key(key, order,  data):\n",
    "    cmp = RecordComparator(key, order)\n",
    "    best = data[0]\n",
    "    for i in data:\n",
    "        if cmp.compare(best, i) == 1:\n",
    "            best = i            \n",
    "    return best"
   ]
  },
  {
   "cell_type": "markdown",
   "metadata": {},
   "source": [
    "## Part 3\n"
   ]
  },
  {
   "cell_type": "markdown",
   "metadata": {},
   "source": [
    "Step 3: first_by_key comparator\n",
    "As we build increasingly rich orderings for our records, we'll find it useful to extract the comparison of records into a comparator. This is a function or object (depending on your language) which determines if a record is \"less than\", equal, or \"greater than\" another.\n",
    "In object-oriented languages, you should write a class whose constructor accepts two parameters: a string key and a string direction. The class should implement a method compare that takes as its parameters two records. This method should return -1 if the first record comes before the second record (according to key and direction), zero if neither record comes before the other, or 1 if the first record comes after the second.\n",
    "In functional languages, you should write a function which accepts two parameters: a string key and a string direction. The function should return a method that takes as its parameters two records. This function should return -1 if the first record comes before the second record (according to key and direction), zero if neither record comes before the other, or 1 if the first record comes after the second.\n",
    "You should then use your comparator in your implementation of first_by_key."
   ]
  },
  {
   "cell_type": "code",
   "execution_count": 75,
   "metadata": {
    "collapsed": true
   },
   "outputs": [],
   "source": [
    "def test_record_comparator():\n",
    "    cmp = RecordComparator(\"a\", \"asc\")\n",
    "    assert cmp.compare({\"a\": 1}, {\"a\": 2}) == -1\n",
    "    assert cmp.compare({\"a\": 2}, {\"a\": 1}) == 1\n",
    "    assert cmp.compare({\"a\": 1}, {\"a\": 1}) == 0"
   ]
  },
  {
   "cell_type": "code",
   "execution_count": 74,
   "metadata": {
    "collapsed": true
   },
   "outputs": [],
   "source": [
    "class RecordComparator:\n",
    "    def __init__(self, key, order):\n",
    "        self.my_key = key\n",
    "        if order == \"asc\":\n",
    "            self.sign = 1\n",
    "        else:\n",
    "            self.sign = -1\n",
    "    def compare(self, obj1, obj2):\n",
    "        val1 = self.sign*obj1[self.my_key] if self.my_key in obj1 else 0\n",
    "        val2 = self.sign*obj2[self.my_key] if self.my_key in obj2 else 0        \n",
    "        if val1 == val2:\n",
    "            return 0\n",
    "        else:\n",
    "            return 1 if val1 > val2 else -1"
   ]
  },
  {
   "cell_type": "code",
   "execution_count": 58,
   "metadata": {
    "collapsed": true
   },
   "outputs": [],
   "source": [
    "test_record_comparator()"
   ]
  },
  {
   "cell_type": "code",
   "execution_count": 67,
   "metadata": {
    "collapsed": true
   },
   "outputs": [],
   "source": [
    "key = \"b\"\n",
    "obj2 = {\"a\": 10}"
   ]
  },
  {
   "cell_type": "code",
   "execution_count": 68,
   "metadata": {
    "collapsed": true
   },
   "outputs": [],
   "source": [
    "val2 = obj2[key] if key in obj2 else 0"
   ]
  },
  {
   "cell_type": "code",
   "execution_count": 69,
   "metadata": {},
   "outputs": [
    {
     "data": {
      "text/plain": [
       "0"
      ]
     },
     "execution_count": 69,
     "metadata": {},
     "output_type": "execute_result"
    }
   ],
   "source": [
    "val2"
   ]
  }
 ],
 "metadata": {
  "kernelspec": {
   "display_name": "Python 3",
   "language": "python",
   "name": "python3"
  },
  "language_info": {
   "codemirror_mode": {
    "name": "ipython",
    "version": 3
   },
   "file_extension": ".py",
   "mimetype": "text/x-python",
   "name": "python",
   "nbconvert_exporter": "python",
   "pygments_lexer": "ipython3",
   "version": "3.5.0"
  },
  "latex_envs": {
   "LaTeX_envs_menu_present": true,
   "autocomplete": true,
   "bibliofile": "biblio.bib",
   "cite_by": "apalike",
   "current_citInitial": 1,
   "eqLabelWithNumbers": true,
   "eqNumInitial": 1,
   "hotkeys": {
    "equation": "Ctrl-E",
    "itemize": "Ctrl-I"
   },
   "labels_anchors": false,
   "latex_user_defs": false,
   "report_style_numbering": false,
   "user_envs_cfg": false
  }
 },
 "nbformat": 4,
 "nbformat_minor": 2
}
